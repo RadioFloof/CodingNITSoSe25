{
 "cells": [
  {
   "cell_type": "code",
   "execution_count": 19,
   "id": "381739bb",
   "metadata": {},
   "outputs": [
    {
     "name": "stdout",
     "output_type": "stream",
     "text": [
      "('PostgreSQL 16.6 on aarch64-unknown-linux-gnu, compiled by aarch64-unknown-linux-gnu-gcc (GCC) 9.5.0, 64-bit',)\n"
     ]
    }
   ],
   "source": [
    "import psycopg2\n",
    "\n",
    "conn = psycopg2.connect(\n",
    "    host=\"database-2.cluster-cnqcwui40xf8.eu-central-1.rds.amazonaws.com\",\n",
    "    database=\"demo\",\n",
    "    user=\"postgres\",\n",
    "    password=\"NIT-Coding-2025\",\n",
    "    port=5432\n",
    ")\n",
    "\n",
    "cursor = conn.cursor()\n",
    "cursor.execute(\"SELECT version();\")\n",
    "print(cursor.fetchone())\n",
    "\n"
   ]
  },
  {
   "cell_type": "code",
   "execution_count": 26,
   "id": "a11510e9",
   "metadata": {},
   "outputs": [
    {
     "name": "stdout",
     "output_type": "stream",
     "text": [
      "     artistid                                               name\n",
      "0           1                                              AC/DC\n",
      "1           2                                             Accept\n",
      "2           3                                          Aerosmith\n",
      "3           4                                  Alanis Morissette\n",
      "4           5                                    Alice In Chains\n",
      "..        ...                                                ...\n",
      "270       271   Mela Tenenbaum, Pro Musica Prague & Richard Kapp\n",
      "271       272                             Emerson String Quartet\n",
      "272       273  C. Monteverdi, Nigel Rogers - Chiaroscuro; Lon...\n",
      "273       274                                      Nash Ensemble\n",
      "274       275                              Philip Glass Ensemble\n",
      "\n",
      "[275 rows x 2 columns]\n",
      "     albumid                                              title  artistid\n",
      "0          1              For Those About To Rock We Salute You         1\n",
      "1          2                                  Balls to the Wall         2\n",
      "2          3                                  Restless and Wild         2\n",
      "3          4                                  Let There Be Rock         1\n",
      "4          5                                           Big Ones         3\n",
      "..       ...                                                ...       ...\n",
      "342      343                             Respighi:Pines of Rome       226\n",
      "343      344  Schubert: The Late String Quartets & String Qu...       272\n",
      "344      345                                Monteverdi: L'Orfeo       273\n",
      "345      346                              Mozart: Chamber Music       274\n",
      "346      347  Koyaanisqatsi (Soundtrack from the Motion Pict...       275\n",
      "\n",
      "[347 rows x 3 columns]\n"
     ]
    },
    {
     "name": "stderr",
     "output_type": "stream",
     "text": [
      "C:\\Users\\rforner\\AppData\\Local\\Temp\\ipykernel_11008\\2020382315.py:8: UserWarning: pandas only supports SQLAlchemy connectable (engine/connection) or database string URI or sqlite3 DBAPI2 connection. Other DBAPI2 objects are not tested. Please consider using SQLAlchemy.\n",
      "  df_artist = pd.read_sql_query(query_artist, conn)\n",
      "C:\\Users\\rforner\\AppData\\Local\\Temp\\ipykernel_11008\\2020382315.py:17: UserWarning: pandas only supports SQLAlchemy connectable (engine/connection) or database string URI or sqlite3 DBAPI2 connection. Other DBAPI2 objects are not tested. Please consider using SQLAlchemy.\n",
      "  df_album = pd.read_sql_query(query_album, conn)\n"
     ]
    }
   ],
   "source": [
    "import pandas as pd\n",
    "\n",
    "\n",
    "# Query to fetch all data from the Artist table\n",
    "query_artist = \"SELECT * FROM Artist\"\n",
    " \n",
    "# Execute the query and load the result into a DataFrame\n",
    "df_artist = pd.read_sql_query(query_artist, conn)\n",
    " \n",
    "# Display the result\n",
    "print(df_artist)\n",
    " \n",
    "\n",
    "\n",
    "# Query the album table\n",
    "query_album = \"SELECT * FROM Album;\"\n",
    "df_album = pd.read_sql_query(query_album, conn)\n",
    "\n",
    "\n",
    "# View the DataFrame\n",
    "print(df_album)\n",
    "\n",
    "#conn.close()"
   ]
  },
  {
   "cell_type": "code",
   "execution_count": 35,
   "id": "9bdba389",
   "metadata": {},
   "outputs": [
    {
     "name": "stdout",
     "output_type": "stream",
     "text": [
      "Album columns: ['albumid', 'title', 'artistid']\n",
      "Artist columns: ['artistid', 'name']\n",
      "   album_id                            album_title artist_name\n",
      "0         1  For Those About To Rock We Salute You       AC/DC\n",
      "1         2                      Balls to the Wall      Accept\n",
      "2         3                      Restless and Wild      Accept\n",
      "3         4                      Let There Be Rock       AC/DC\n",
      "4         5                               Big Ones   Aerosmith\n"
     ]
    },
    {
     "name": "stderr",
     "output_type": "stream",
     "text": [
      "C:\\Users\\rforner\\AppData\\Local\\Temp\\ipykernel_11008\\4131832396.py:2: UserWarning: pandas only supports SQLAlchemy connectable (engine/connection) or database string URI or sqlite3 DBAPI2 connection. Other DBAPI2 objects are not tested. Please consider using SQLAlchemy.\n",
      "  albums = pd.read_sql(\"SELECT * FROM album;\", conn)\n",
      "C:\\Users\\rforner\\AppData\\Local\\Temp\\ipykernel_11008\\4131832396.py:3: UserWarning: pandas only supports SQLAlchemy connectable (engine/connection) or database string URI or sqlite3 DBAPI2 connection. Other DBAPI2 objects are not tested. Please consider using SQLAlchemy.\n",
      "  artists = pd.read_sql(\"SELECT * FROM artist;\", conn)\n"
     ]
    }
   ],
   "source": [
    "\n",
    "\n",
    "\n",
    "# Load tables\n",
    "albums = pd.read_sql(\"SELECT * FROM album;\", conn)\n",
    "artists = pd.read_sql(\"SELECT * FROM artist;\", conn)\n",
    "\n",
    "# Optional: Print column names for debugging\n",
    "print(\"Album columns:\", albums.columns.tolist())\n",
    "print(\"Artist columns:\", artists.columns.tolist())\n",
    "\n",
    "# Merge on ArtistId (likely column name in many schemas)\n",
    "album_artist_df = pd.merge(\n",
    "    albums,\n",
    "    artists,\n",
    "    how=\"inner\",\n",
    "    left_on=\"artistid\",   # adjust if needed\n",
    "    right_on=\"artistid\")\n",
    "\n",
    "# Keep only relevant columns\n",
    "album_artist_df = album_artist_df[[\"albumid\", \"title\", \"name\"]]\n",
    "album_artist_df.columns = [\"album_id\", \"album_title\", \"artist_name\"]\n",
    "\n",
    "# Close connection\n",
    "#conn.close()\n",
    "\n",
    "# Display result\n",
    "print(album_artist_df.head())"
   ]
  }
 ],
 "metadata": {
  "kernelspec": {
   "display_name": "Python 3",
   "language": "python",
   "name": "python3"
  },
  "language_info": {
   "codemirror_mode": {
    "name": "ipython",
    "version": 3
   },
   "file_extension": ".py",
   "mimetype": "text/x-python",
   "name": "python",
   "nbconvert_exporter": "python",
   "pygments_lexer": "ipython3",
   "version": "3.12.10"
  }
 },
 "nbformat": 4,
 "nbformat_minor": 5
}
