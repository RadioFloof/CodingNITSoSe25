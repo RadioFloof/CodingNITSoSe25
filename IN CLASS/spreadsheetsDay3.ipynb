{
 "cells": [
  {
   "cell_type": "code",
   "execution_count": 2,
   "id": "6ef94ed6",
   "metadata": {},
   "outputs": [],
   "source": [
    "import pandas"
   ]
  },
  {
   "cell_type": "code",
   "execution_count": 4,
   "id": "798e22d1",
   "metadata": {},
   "outputs": [],
   "source": [
    "firstseries = pandas.Series([1, 2, 3, 4, 5])\n"
   ]
  },
  {
   "cell_type": "code",
   "execution_count": 5,
   "id": "23bd8b0c",
   "metadata": {},
   "outputs": [
    {
     "data": {
      "text/html": [
       "<div>\n",
       "<style scoped>\n",
       "    .dataframe tbody tr th:only-of-type {\n",
       "        vertical-align: middle;\n",
       "    }\n",
       "\n",
       "    .dataframe tbody tr th {\n",
       "        vertical-align: top;\n",
       "    }\n",
       "\n",
       "    .dataframe thead th {\n",
       "        text-align: right;\n",
       "    }\n",
       "</style>\n",
       "<table border=\"1\" class=\"dataframe\">\n",
       "  <thead>\n",
       "    <tr style=\"text-align: right;\">\n",
       "      <th></th>\n",
       "      <th>Name</th>\n",
       "      <th>Age</th>\n",
       "      <th>City</th>\n",
       "    </tr>\n",
       "  </thead>\n",
       "  <tbody>\n",
       "    <tr>\n",
       "      <th>0</th>\n",
       "      <td>Alice</td>\n",
       "      <td>25</td>\n",
       "      <td>New York</td>\n",
       "    </tr>\n",
       "    <tr>\n",
       "      <th>1</th>\n",
       "      <td>Bob</td>\n",
       "      <td>30</td>\n",
       "      <td>Los Angeles</td>\n",
       "    </tr>\n",
       "    <tr>\n",
       "      <th>2</th>\n",
       "      <td>Charlie</td>\n",
       "      <td>35</td>\n",
       "      <td>Chicago</td>\n",
       "    </tr>\n",
       "    <tr>\n",
       "      <th>3</th>\n",
       "      <td>David</td>\n",
       "      <td>40</td>\n",
       "      <td>Houston</td>\n",
       "    </tr>\n",
       "    <tr>\n",
       "      <th>4</th>\n",
       "      <td>Eve</td>\n",
       "      <td>45</td>\n",
       "      <td>Phoenix</td>\n",
       "    </tr>\n",
       "  </tbody>\n",
       "</table>\n",
       "</div>"
      ],
      "text/plain": [
       "      Name  Age         City\n",
       "0    Alice   25     New York\n",
       "1      Bob   30  Los Angeles\n",
       "2  Charlie   35      Chicago\n",
       "3    David   40      Houston\n",
       "4      Eve   45      Phoenix"
      ]
     },
     "execution_count": 5,
     "metadata": {},
     "output_type": "execute_result"
    }
   ],
   "source": [
    "dpeople = {\"Name\":['Alice', 'Bob', 'Charlie', 'David', 'Eve'], \n",
    "           \"Age\":[25, 30, 35, 40, 45], \n",
    "            \"City\":['New York', 'Los Angeles', 'Chicago', 'Houston', 'Phoenix']\n",
    "}\n",
    "people =pandas.DataFrame(dpeople)\n",
    "people\n"
   ]
  },
  {
   "cell_type": "code",
   "execution_count": null,
   "id": "90674048",
   "metadata": {},
   "outputs": [],
   "source": [
    "lpeople=[[\"alice\", 25, \"new york\"],\n",
    "         [\"bob\", 30, \"los angeles\"], \n",
    "         [\"charlie\", 35, \"chicago\"], \n",
    "         [\"david\", 40, \"houston\"], \n",
    "         [\"eve\", 45, \"phoenix\"]]        \n",
    "people2 = pandas.DataFrame(lpeople, columns=[\"Name\", \"Age\", \"City\"],\n",
    "                           index=[\"a\", \"b\", \"c\", \"d\", \"e\"])\n",
    "\n"
   ]
  },
  {
   "cell_type": "code",
   "execution_count": 11,
   "id": "abda1be7",
   "metadata": {},
   "outputs": [
    {
     "name": "stdout",
     "output_type": "stream",
     "text": [
      "Choose a DataFrame:\n",
      "\n",
      "1. people (Name, Age, City)\n",
      "2. people2 (Name, Age, Salary)\n",
      "\n",
      "Available Rows:\n",
      "Row 0: {'Name': 'Alice', 'Age': 25, 'City': 'New York'}\n",
      "Row 1: {'Name': 'Bob', 'Age': 30, 'City': 'Los Angeles'}\n",
      "Row 2: {'Name': 'Charlie', 'Age': 35, 'City': 'Chicago'}\n",
      "\n",
      "Available Columns:\n",
      "- Name\n",
      "- Age\n",
      "- City\n",
      "\n",
      "✅ The value at row 1, column 'Age' is: 30\n"
     ]
    }
   ],
   "source": [
    "import pandas as pd\n",
    "\n",
    "# Define DataFrames\n",
    "dpeople = {\"Name\": [\"Alice\", \"Bob\", \"Charlie\"],\n",
    "           \"Age\": [25, 30, 35],\n",
    "           \"City\": [\"New York\", \"Los Angeles\", \"Chicago\"]}\n",
    "people = pd.DataFrame(dpeople)\n",
    "\n",
    "lpeople = [[\"Alice\", 25, 76667.55],\n",
    "           [\"Bob\", 30, 80000.00],\n",
    "           [\"Charlie\", 35, 90000.90]]\n",
    "people2 = pd.DataFrame(lpeople,\n",
    "                       columns=[\"Name\", \"Age\", \"Salary\"],\n",
    "                       index=[\"1\", \"2\", \"3\"])  # string index\n",
    "\n",
    "# Step 1: Choose DataFrame\n",
    "print(\"Choose a DataFrame:\\n\")\n",
    "print(\"1. people (Name, Age, City)\")\n",
    "print(\"2. people2 (Name, Age, Salary)\")\n",
    "df_choice = input(\"Enter '1' or '2': \")\n",
    "\n",
    "if df_choice == \"1\":\n",
    "    df = people\n",
    "elif df_choice == \"2\":\n",
    "    df = people2\n",
    "else:\n",
    "    print(\"Invalid choice.\")\n",
    "    exit()\n",
    "\n",
    "# Step 2: Show rows with details\n",
    "print(\"\\nAvailable Rows:\")\n",
    "for idx in df.index:\n",
    "    print(f\"Row {repr(idx)}: {df.loc[idx].to_dict()}\")\n",
    "\n",
    "# Step 3: Show column names\n",
    "print(\"\\nAvailable Columns:\")\n",
    "for col in df.columns:\n",
    "    print(f\"- {col}\")\n",
    "\n",
    "# Step 4: Get user input\n",
    "row_input = input(\"\\nEnter the row index (as shown above, exactly): \")\n",
    "col = input(\"Enter the column name (as shown above): \")\n",
    "\n",
    "# Step 5: Try to auto-cast row index if possible\n",
    "# Convert input to int if the index is int type\n",
    "try:\n",
    "    if df.index.dtype.kind in ('i', 'u'):  # integer/unsigned int\n",
    "        row = int(row_input)\n",
    "    else:\n",
    "        row = row_input\n",
    "except ValueError:\n",
    "    row = row_input  # fallback in case of bad int conversion\n",
    "\n",
    "# Step 6: Show the value\n",
    "try:\n",
    "    value = df.loc[row, col]\n",
    "    print(f\"\\n✅ The value at row {repr(row)}, column '{col}' is: {value}\")\n",
    "except Exception as e:\n",
    "    print(f\"\\n❌ Error: {e}\")\n"
   ]
  },
  {
   "cell_type": "code",
   "execution_count": 13,
   "id": "394e6412",
   "metadata": {},
   "outputs": [
    {
     "name": "stdout",
     "output_type": "stream",
     "text": [
      "      Name  Age    Salary\n",
      "1    Alice   25  76667.55\n",
      "2      Bob   30  80000.00\n",
      "3  Charlie   35  90000.90\n"
     ]
    }
   ],
   "source": [
    "filtered = people2[people2[\"Salary\"] >= 1000 * people2[\"Age\"]]\n",
    "print(filtered)"
   ]
  },
  {
   "cell_type": "code",
   "execution_count": 15,
   "id": "b575e39d",
   "metadata": {},
   "outputs": [
    {
     "name": "stdout",
     "output_type": "stream",
     "text": [
      "Empty DataFrame\n",
      "Columns: [Name, Age, Salary]\n",
      "Index: []\n"
     ]
    }
   ],
   "source": [
    "not_filtered = people2[people2[\"Salary\"] < 1000 * people2[\"Age\"]]\n",
    "print(not_filtered)"
   ]
  },
  {
   "cell_type": "code",
   "execution_count": null,
   "id": "806019b8",
   "metadata": {},
   "outputs": [
    {
     "name": "stdout",
     "output_type": "stream",
     "text": [
      "       x      y\n",
      "0   -100   9005\n",
      "1    -99   8816\n",
      "2    -98   8629\n",
      "3    -97   8444\n",
      "4    -96   8261\n",
      "..   ...    ...\n",
      "196   96  10181\n",
      "197   97  10384\n",
      "198   98  10589\n",
      "199   99  10796\n",
      "200  100  11005\n",
      "\n",
      "[201 rows x 2 columns]\n"
     ]
    },
    {
     "data": {
      "text/plain": [
       "<Axes: >"
      ]
     },
     "execution_count": 16,
     "metadata": {},
     "output_type": "execute_result"
    },
    {
     "data": {
      "image/png": "[encoded data removed]",
      "text/plain": [
       "<Figure size 640x480 with 1 Axes>"
      ]
     },
     "metadata": {},
     "output_type": "display_data"
    }
   ],
   "source": [
    "import pandas as pd\n",
    "x = pd.Series(range(-100, 101))\n",
    "y = x*x + x*10 + 5\n",
    "df = pd.DataFrame([x,y],[\"x\",\"y\"]).transpose()\n",
    "print(df)\n",
    "df.plot()\n"
   ]
  },
  {
   "cell_type": "code",
   "execution_count": 17,
   "id": "8d1a46b9",
   "metadata": {},
   "outputs": [
    {
     "data": {
      "image/png": "[encoded data removed]",
      "text/plain": [
       "<Figure size 640x480 with 1 Axes>"
      ]
     },
     "metadata": {},
     "output_type": "display_data"
    }
   ],
   "source": [
    "import pandas as pd\n",
    "import matplotlib.pyplot as plt\n",
    "\n",
    "# Generate data\n",
    "x = pd.Series(range(-100, 101))\n",
    "y = x * x + x * 10 + 5\n",
    "\n",
    "# Create DataFrame\n",
    "df = pd.DataFrame([x, y], [\"x\", \"y\"]).transpose()\n",
    "\n",
    "# Plot y vs x, not vs index\n",
    "df.plot(x=\"x\", y=\"y\", title=\"y = x² + 10x + 5\")\n",
    "plt.xlabel(\"x\")\n",
    "plt.ylabel(\"y\")\n",
    "plt.grid(True)\n",
    "plt.show()"
   ]
  },
  {
   "cell_type": "code",
   "execution_count": null,
   "id": "f89cad32",
   "metadata": {},
   "outputs": [],
   "source": []
  }
 ],
 "metadata": {
  "kernelspec": {
   "display_name": "Python 3",
   "language": "python",
   "name": "python3"
  },
  "language_info": {
   "codemirror_mode": {
    "name": "ipython",
    "version": 3
   },
   "file_extension": ".py",
   "mimetype": "text/x-python",
   "name": "python",
   "nbconvert_exporter": "python",
   "pygments_lexer": "ipython3",
   "version": "3.12.10"
  }
 },
 "nbformat": 4,
 "nbformat_minor": 5
}
