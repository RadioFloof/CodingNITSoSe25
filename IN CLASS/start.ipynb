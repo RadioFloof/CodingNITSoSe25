{
 "cells": [
  {
   "cell_type": "code",
   "execution_count": 30,
   "metadata": {},
   "outputs": [],
   "source": [
    "a=5\n"
   ]
  },
  {
   "cell_type": "code",
   "execution_count": 31,
   "metadata": {},
   "outputs": [],
   "source": [
    "b=10000\n"
   ]
  },
  {
   "cell_type": "code",
   "execution_count": 32,
   "metadata": {},
   "outputs": [],
   "source": [
    "b=\"Felix\""
   ]
  },
  {
   "cell_type": "code",
   "execution_count": 33,
   "metadata": {},
   "outputs": [],
   "source": [
    "name=\"Felix\""
   ]
  },
  {
   "cell_type": "code",
   "execution_count": 34,
   "metadata": {},
   "outputs": [],
   "source": [
    "anotherName=\"Quan\""
   ]
  },
  {
   "cell_type": "code",
   "execution_count": 35,
   "metadata": {},
   "outputs": [],
   "source": [
    "a=a*100"
   ]
  },
  {
   "cell_type": "code",
   "execution_count": 36,
   "metadata": {},
   "outputs": [
    {
     "ename": "TypeError",
     "evalue": "unsupported operand type(s) for +: 'int' and 'str'",
     "output_type": "error",
     "traceback": [
      "\u001b[31m---------------------------------------------------------------------------\u001b[39m",
      "\u001b[31mTypeError\u001b[39m                                 Traceback (most recent call last)",
      "\u001b[36mCell\u001b[39m\u001b[36m \u001b[39m\u001b[32mIn[36]\u001b[39m\u001b[32m, line 2\u001b[39m\n\u001b[32m      1\u001b[39m \u001b[38;5;66;03m# calculator\u001b[39;00m\n\u001b[32m----> \u001b[39m\u001b[32m2\u001b[39m \u001b[43ma\u001b[49m\u001b[43m+\u001b[49m\u001b[43mb\u001b[49m\n\u001b[32m      3\u001b[39m a-b\n\u001b[32m      4\u001b[39m a*b\n",
      "\u001b[31mTypeError\u001b[39m: unsupported operand type(s) for +: 'int' and 'str'"
     ]
    }
   ],
   "source": [
    "# calculator\n",
    "a+b\n",
    "a-b\n",
    "a*b\n",
    "a/b\n"
   ]
  },
  {
   "cell_type": "code",
   "execution_count": null,
   "metadata": {},
   "outputs": [
    {
     "data": {
      "text/plain": [
       "16"
      ]
     },
     "execution_count": 9,
     "metadata": {},
     "output_type": "execute_result"
    }
   ],
   "source": [
    "#exponential\n",
    "2**4"
   ]
  },
  {
   "cell_type": "code",
   "execution_count": null,
   "metadata": {},
   "outputs": [
    {
     "data": {
      "text/plain": [
       "1.4142135623730951"
      ]
     },
     "execution_count": 10,
     "metadata": {},
     "output_type": "execute_result"
    }
   ],
   "source": [
    "#root\n",
    "2**0.5\n"
   ]
  },
  {
   "cell_type": "code",
   "execution_count": null,
   "metadata": {},
   "outputs": [
    {
     "data": {
      "text/plain": [
       "'HelloHelloHelloHelloHello'"
      ]
     },
     "execution_count": 11,
     "metadata": {},
     "output_type": "execute_result"
    }
   ],
   "source": [
    "\"Hello\"*5"
   ]
  },
  {
   "cell_type": "code",
   "execution_count": null,
   "metadata": {},
   "outputs": [
    {
     "data": {
      "text/plain": [
       "'Hello\\nHello\\nHello\\nHello\\nHello\\n'"
      ]
     },
     "execution_count": 14,
     "metadata": {},
     "output_type": "execute_result"
    }
   ],
   "source": [
    "\"Hello\\n\"*5"
   ]
  },
  {
   "cell_type": "code",
   "execution_count": null,
   "metadata": {},
   "outputs": [
    {
     "name": "stdout",
     "output_type": "stream",
     "text": [
      "Hello\n",
      "Hello\n",
      "Hello\n",
      "Hello\n",
      "Hello\n",
      "\n"
     ]
    }
   ],
   "source": [
    "print(\"Hello\\n\"*5)"
   ]
  },
  {
   "cell_type": "code",
   "execution_count": null,
   "metadata": {},
   "outputs": [],
   "source": [
    "userNumber=input(\"What is the answer to life?\")k"
   ]
  },
  {
   "cell_type": "code",
   "execution_count": null,
   "metadata": {},
   "outputs": [
    {
     "name": "stdout",
     "output_type": "stream",
     "text": [
      "\n",
      "✅ You entered: 5\n"
     ]
    }
   ],
   "source": [
    "from word2number import w2n\n",
    "\n",
    "BIG_NUMBER_LIMIT = 1_000_000_000  # 1 billion\n",
    "\n",
    "def clean_input(text):\n",
    "    \"\"\"Clean the input text.\"\"\"\n",
    "    text = text.strip()\n",
    "    text = text.replace(',', '')\n",
    "    text = text.lower()\n",
    "    return text\n",
    "\n",
    "def get_number():\n",
    "    while True:\n",
    "        text = input(\"Enter a number (e.g., '123,456' or 'Two million three hundred'): \")\n",
    "        text = clean_input(text)\n",
    "\n",
    "        # Try direct conversion to int or float\n",
    "        try:\n",
    "            if '.' in text:\n",
    "                number = float(text)\n",
    "            else:\n",
    "                number = int(text)\n",
    "            \n",
    "            if number > BIG_NUMBER_LIMIT:\n",
    "                print(f\"⚠️  Warning: Number is larger than {BIG_NUMBER_LIMIT:,}!\")\n",
    "            return number\n",
    "        \n",
    "        except ValueError:\n",
    "            # Try word-to-number conversion\n",
    "            try:\n",
    "                number = w2n.word_to_num(text)\n",
    "                \n",
    "                if number > BIG_NUMBER_LIMIT:\n",
    "                    print(f\"⚠️  Warning: Number is larger than {BIG_NUMBER_LIMIT:,}!\")\n",
    "                return number\n",
    "            \n",
    "            except Exception:\n",
    "                print(\"\\n❌ Invalid input!\")\n",
    "                print(\"✅ Examples: '1,000,000', '42.5', 'Three hundred twenty one', 'Two million five hundred thousand'\\n\")\n",
    "\n",
    "number = get_number()\n",
    "print(f\"\\n✅ You entered: {number}\")\n"
   ]
  },
  {
   "cell_type": "code",
   "execution_count": null,
   "metadata": {},
   "outputs": [
    {
     "name": "stdout",
     "output_type": "stream",
     "text": [
      "5 10 15\n",
      "5 + 10 = 15\n"
     ]
    },
    {
     "data": {
      "text/plain": [
       "'5+10=15'"
      ]
     },
     "execution_count": 21,
     "metadata": {},
     "output_type": "execute_result"
    }
   ],
   "source": [
    "a=5\n",
    "b=10\n",
    "print(a,b,a+b)\n",
    "print(str(a)+\" + \"+str(b)+\" = \"+str(a+b))\n",
    "\"{}+{}={}\".format(a,b,a+b)\n"
   ]
  },
  {
   "cell_type": "code",
   "execution_count": null,
   "metadata": {},
   "outputs": [
    {
     "name": "stdout",
     "output_type": "stream",
     "text": [
      "hello youn one\n",
      "the playground is over there\n",
      "see you later\n",
      "this is what we say to every customer\n"
     ]
    }
   ],
   "source": [
    "\n",
    "age =16\n",
    "if age < 18:\n",
    "    print (\"hello youn one\")\n",
    "    print (\"the playground is over there\")\n",
    "    print (\"see you later\")\n",
    "print (\"this is what we say to every customer\")"
   ]
  },
  {
   "cell_type": "code",
   "execution_count": 45,
   "metadata": {},
   "outputs": [
    {
     "name": "stdout",
     "output_type": "stream",
     "text": [
      "this is what we say to every customer\n",
      "you can vote\n"
     ]
    }
   ],
   "source": [
    "age = 22\n",
    "print (\"this is what we say to every customer\")\n",
    "if age < 18:\n",
    "    print (\"hello youn one\")\n",
    "    print (\"the playground is over there\")\n",
    "    print (\"see you later\")\n",
    "elif age>=18:\n",
    "    print (\"you can vote\")\n",
    "else :\n",
    "    print (\"?\")\n",
    "    \n",
    "    \n",
    "    \n",
    "    \n",
    "    "
   ]
  },
  {
   "cell_type": "code",
   "execution_count": null,
   "metadata": {},
   "outputs": [
    {
     "name": "stdout",
     "output_type": "stream",
     "text": [
      "6.0 + 3.0 = 9.0\n"
     ]
    }
   ],
   "source": [
    "while True:\n",
    "    #calculator\n",
    "    op1 = float(input(\"Please give me the first number: \"))\n",
    "    op2 = float(input(\"Please give me the second number: \"))\n",
    "    operator = input(\"What should I do with those numbers? (+, -, *, /): \")\n",
    "\n",
    "    if operator == '+':\n",
    "        result = op1 + op2\n",
    "        \n",
    "    elif operator == '-':\n",
    "        result = op1 - op2\n",
    "    elif operator == '*':\n",
    "        result = op1 * op2\n",
    "        \n",
    "        \n",
    "    elif operator == '/':\n",
    "        if op2 != 0:\n",
    "            result = op1 / op2\n",
    "        else:\n",
    "            result = \"Error (division by zero)\"\n",
    "    else:\n",
    "        result = \"??!!??\"\n",
    "\n",
    "    print(f\"{op1} {operator} {op2} = {result}\")\n"
   ]
  },
  {
   "cell_type": "code",
   "execution_count": 59,
   "metadata": {},
   "outputs": [
    {
     "name": "stdout",
     "output_type": "stream",
     "text": [
      "The factorial of 4 is 24\n"
     ]
    }
   ],
   "source": [
    "# function to calculate factorial\n",
    "op1 = int(input(\"Please give me the number to be factorialised: \"))\n",
    "count = 1\n",
    "factorial = 1\n",
    "\n",
    "while count <= op1:\n",
    "    factorial = factorial * count\n",
    "    count = count + 1\n",
    "\n",
    "print(f\"The factorial of {op1} is {factorial}\")\n",
    "\n"
   ]
  },
  {
   "cell_type": "code",
   "execution_count": 60,
   "metadata": {},
   "outputs": [
    {
     "name": "stdout",
     "output_type": "stream",
     "text": [
      "The factorial of 4 is 24\n"
     ]
    }
   ],
   "source": [
    "def factorial(n):\n",
    "    result = 1\n",
    "    for i in range(1, n + 1):\n",
    "        result *= i\n",
    "    return result\n",
    "\n",
    "# Ask the user\n",
    "op1 = int(input(\"Please give me the number to be factorialised: \"))\n",
    "\n",
    "# Call the function\n",
    "fact = factorial(op1)\n",
    "\n",
    "print(f\"The factorial of {op1} is {fact}\")\n"
   ]
  },
  {
   "cell_type": "code",
   "execution_count": null,
   "metadata": {},
   "outputs": [],
   "source": []
  },
  {
   "cell_type": "code",
   "execution_count": 58,
   "metadata": {},
   "outputs": [
    {
     "name": "stdout",
     "output_type": "stream",
     "text": [
      "The first 5 numbers of the Fibonacci sequence are: [0, 1, 1, 2, 3]\n"
     ]
    }
   ],
   "source": [
    "# function for Fibonacci sequence\n",
    "def fib(n):\n",
    "    a, b = 0, 1\n",
    "    sequence = []\n",
    "    for _ in range(n):\n",
    "        sequence.append(a)\n",
    "        a, b = b, a + b\n",
    "    return sequence\n",
    "\n",
    "# ask user\n",
    "op2 = int(input(\"Please give me how many numbers you want from the sequence: \"))\n",
    "\n",
    "# generate and print\n",
    "fib_sequence = fib(op2)\n",
    "print(f\"The first {op2} numbers of the Fibonacci sequence are: {fib_sequence}\")\n"
   ]
  },
  {
   "cell_type": "code",
   "execution_count": null,
   "metadata": {},
   "outputs": [],
   "source": [
    "row = 1\n",
    "\n",
    "while row <= 10:\n",
    "    column = 1\n",
    "    while column <= 10:\n",
    "        result = row * column\n",
    "        print(f\"{result:4}\", end=\" \")  # Format nicely into columns\n",
    "        column += 1\n",
    "    print()  # New line after each row\n",
    "    row += 1\n"
   ]
  },
  {
   "cell_type": "code",
   "execution_count": 62,
   "metadata": {},
   "outputs": [
    {
     "name": "stdout",
     "output_type": "stream",
     "text": [
      "   1.   2.   3.   4.   5.   6.   7.   8.   9.  10.\n",
      "   2.   4.   6.   8.  10.  12.  14.  16.  18.  20.\n",
      "   3.   6.   9.  12.  15.  18.  21.  24.  27.  30.\n",
      "   4.   8.  12.  16.  20.  24.  28.  32.  36.  40.\n",
      "   5.  10.  15.  20.  25.  30.  35.  40.  45.  50.\n",
      "   6.  12.  18.  24.  30.  36.  42.  48.  54.  60.\n",
      "   7.  14.  21.  28.  35.  42.  49.  56.  63.  70.\n",
      "   8.  16.  24.  32.  40.  48.  56.  64.  72.  80.\n",
      "   9.  18.  27.  36.  45.  54.  63.  72.  81.  90.\n",
      "  10.  20.  30.  40.  50.  60.  70.  80.  90. 100.\n"
     ]
    }
   ],
   "source": [
    "def full_times_table():\n",
    "    row = 1\n",
    "    while row <= 10:\n",
    "        column = 1\n",
    "        while column <= 10:\n",
    "            result = row * column\n",
    "            print(f\"{result:4}\", end=\".\") \n",
    "            column += 1\n",
    "        print()  \n",
    "        row += 1\n",
    "\n",
    "\n",
    "full_times_table()\n"
   ]
  },
  {
   "cell_type": "code",
   "execution_count": 63,
   "metadata": {},
   "outputs": [
    {
     "name": "stdout",
     "output_type": "stream",
     "text": [
      "📍 Weather in Mumbai:\n",
      "🌡️ Temperature: 28.43°C\n",
      "🌤️ Description: clear sky\n",
      "💧 Humidity: 74%\n",
      "🌬️ Wind Speed: 3.04 m/s\n",
      "🔵 Pressure: 1008 hPa\n"
     ]
    }
   ],
   "source": [
    "import requests\n",
    "\n",
    "# Replace with your actual API key\n",
    "api_key = 'f82e99474e42cf049967aa24ccd739fa'\n",
    "city = 'Mumbai'\n",
    "url = f'https://api.openweathermap.org/data/2.5/weather?q={city}&appid={api_key}&units=metric'\n",
    "\n",
    "response = requests.get(url)\n",
    "\n",
    "if response.status_code == 200:\n",
    "    data = response.json()\n",
    "    temperature = data['main']['temp']\n",
    "    description = data['weather'][0]['description']\n",
    "    humidity = data['main']['humidity']\n",
    "    pressure = data['main']['pressure']\n",
    "    wind_speed = data['wind']['speed']\n",
    "\n",
    "    print(f\"📍 Weather in {city}:\")\n",
    "    print(f\"🌡️ Temperature: {temperature}°C\")\n",
    "    print(f\"🌤️ Description: {description}\")\n",
    "    print(f\"💧 Humidity: {humidity}%\")\n",
    "    print(f\"🌬️ Wind Speed: {wind_speed} m/s\")\n",
    "    print(f\"🔵 Pressure: {pressure} hPa\")\n",
    "else:\n",
    "    print(\"❌ Failed to retrieve data. Please check the city name or API key.\")\n"
   ]
  },
  {
   "cell_type": "code",
   "execution_count": 64,
   "metadata": {},
   "outputs": [
    {
     "name": "stdout",
     "output_type": "stream",
     "text": [
      "<!doctype html><html itemscope=\"\" itemtype=\"http://schema.org/WebPage\" lang=\"de\"><head><meta content=\"text/html; charset=UTF-8\" http-equiv=\"Content-Type\"><meta content=\"/images/branding/googleg/1x/googleg_standard_color_128dp.png\" itemprop=\"image\"><title>Google</title><script nonce=\"NkIc1uB7wGxqj84CeYffNg\">(function(){var _g={kEI:'Z_0MaITrDK-Gxc8PuPjxsQI',kEXPI:'0,202791,46,3497450,662,435,538661,14111,64702,94324,161053,105524,247319,42725,5230280,11401,108,86,36812449,25228681,11556,39640,5,66106,20961,14109,11949,3461,49764,6751,23880,9139,4598,328,6226,1116,62340,709,15049,8204,7430,58713,45981,2303,1819,2848,1258,352,18471,409,5870,3097,759,3858,5774,4309,12486,10816,927,3,3218,2,569,2545,7625,1635,3261,458,2532,35,3420,2117,1640,1911,2934,4881,570,1871,2318,6995,354,656,611,3971,445,99,3505,8997,2690,1460,527,620,1715,1763,2677,45,860,997,8,1,1,3,439,203,3928,117,594,418,3,595,1012,123,716,5,89,3338,131,2,1,2,2,2,3,1868,1097,1416,184,301,2,1596,713,13,3,2736,1765,300,315,39,8,583,3,1468,1,1242,238,1131,173,1075,1464,285,4,1163,987,2063,626,1,246,13,493,302,2405,2,929,725,325,24,4,469,27,298,257,4,53,77,241,671,12,1,75,7,383,546,70,212,5,284,235,198,216,177,519,45,19,94,1238,56,273,12,1021,61,2,1566,27,1623,211,1172,14,699,388,902,34,10,246,21,732,2,3,2,2,2,1126,478,70,181,489,79,109,291,338,286,66,1179,55,200,379,3,531,72,433,3,58,19,61,51,215,47,1,1,608,926,151,200,144,104,1,6,11,69,517,586,1436,55,9,74,2,35,189,483,416,170,644,11,4,32,94,4,34,4,5,394,4,94,130,268,3,720,650,14,228,24,509,145,1,7,2025,21261433,4,28852,18,4540,8,5639,1182,5,4349,473,4066,108,881,3,412,15,463,1509,806,6023868',kBL:'ORfA',kOPI:89978449};(function(){var a;((a=window.google)==null?0:a.stvsc)?google.kEI=_g.kEI:window.google=_g;}).call(this);})();(function(){google.sn='webhp';google.kHL='de';})();(function(){\n",
      "var g=this||self;function k(){return window.google&&window.google.kOPI||null};var l,m=[];function n(a){for(var b;a&&(!a.getAttribute||!(b=a.getAttribute(\"eid\")));)a=a.parentNode;return b||l}function p(a){for(var b=null;a&&(!a.getAttribute||!(b=a.getAttribute(\"leid\")));)a=a.parentNode;return b}function q(a){/^http:/i.test(a)&&window.location.protocol===\"https:\"&&(google.ml&&google.ml(Error(\"a\"),!1,{src:a,glmm:1}),a=\"\");return a}\n",
      "function r(a,b,d,c,h){var e=\"\";b.search(\"&ei=\")===-1&&(e=\"&ei=\"+n(c),b.search(\"&lei=\")===-1&&(c=p(c))&&(e+=\"&lei=\"+c));var f=b.search(\"&cshid=\")===-1&&a!==\"slh\";c=\"&zx=\"+Date.now().toString();g._cshid&&f&&(c+=\"&cshid=\"+g._cshid);(d=d())&&(c+=\"&opi=\"+d);return\"/\"+(h||\"gen_204\")+\"?atyp=i&ct=\"+String(a)+\"&cad=\"+(b+e+c)};l=google.kEI;google.getEI=n;google.getLEI=p;google.ml=function(){return null};google.log=function(a,b,d,c,h,e){e=e===void 0?k:e;d||(d=r(a,b,e,c,h));if(d=q(d)){a=new Image;var f=m.length;m[f]=a;a.onerror=a.onload=a.onabort=function(){delete m[f]};a.src=d}};google.logUrl=function(a,b){b=b===void 0?k:b;return r(\"\",a,b)};}).call(this);(function(){google.y={};google.sy=[];var d;(d=google).x||(d.x=function(a,b){if(a)var c=a.id;else{do c=Math.random();while(google.y[c])}google.y[c]=[a,b];return!1});var e;(e=google).sx||(e.sx=function(a){google.sy.push(a)});google.lm=[];var f;(f=google).plm||(f.plm=function(a){google.lm.push.apply(google.lm,a)});google.lq=[];var g;(g=google).load||(g.load=function(a,b,c){google.lq.push([[a],b,c])});var h;(h=google).loadAll||(h.loadAll=function(a,b){google.lq.push([a,b])});google.bx=!1;var k;(k=google).lx||(k.lx=function(){});var l=[],m;(m=google).fce||(m.fce=function(a,b,c,n){l.push([a,b,c,n])});google.qce=l;}).call(this);google.f={};(function(){\n",
      "document.documentElement.addEventListener(\"submit\",function(b){var a;if(a=b.target){var c=a.getAttribute(\"data-submitfalse\");a=c===\"1\"||c===\"q\"&&!a.elements.q.value?!0:!1}else a=!1;a&&(b.preventDefault(),b.stopPropagation())},!0);document.documentElement.addEventListener(\"click\",function(b){var a;a:{for(a=b.target;a&&a!==document.documentElement;a=a.parentElement)if(a.tagName===\"A\"){a=a.getAttribute(\"data-nohref\")===\"1\";break a}a=!1}a&&b.preventDefault()},!0);}).call(this);</script><style>#gbar,#guser{font-size:13px;padding-top:1px !important;}#gbar{height:22px}#guser{padding-bottom:7px !important;text-align:right}.gbh,.gbd{border-top:1px solid #c9d7f1;font-size:1px}.gbh{height:0;position:absolute;top:24px;width:100%}@media all{.gb1{height:22px;margin-right:.5em;vertical-align:top}#gbar{float:left}}a.gb1,a.gb4{text-decoration:underline !important}a.gb1,a.gb4{color:#00c !important}.gbi .gb4{color:#dd8e27 !important}.gbf .gb4{color:#900 !important}\n",
      "</style><style>body,td,a,p,.h{font-family:sans-serif}body{margin:0;overflow-y:scroll}#gog{padding:3px 8px 0}td{line-height:.8em}.gac_m td{line-height:17px}form{margin-bottom:20px}.h{color:#1967d2}em{font-weight:bold;font-style:normal}.lst{height:25px;width:496px}.gsfi,.lst{font:18px sans-serif}.gsfs{font:17px sans-serif}.ds{display:inline-box;display:inline-block;margin:3px 0 4px;margin-left:4px}input{font-family:inherit}body{background:#fff;color:#000}a{color:#681da8;text-decoration:none}a:hover,a:active{text-decoration:underline}.fl a{color:#1967d2}a:visited{color:#681da8}.sblc{padding-top:5px}.sblc a{display:block;margin:2px 0;margin-left:13px;font-size:11px}.lsbb{background:#f8f9fa;border:solid 1px;border-color:#dadce0 #70757a #70757a #dadce0;height:30px}.lsbb{display:block}#WqQANb a{display:inline-block;margin:0 12px}.lsb{background:url(/images/nav_logo229.png) 0 -261px repeat-x;color:#000;border:none;cursor:pointer;height:30px;margin:0;outline:0;font:15px sans-serif;vertical-align:top}.lsb:active{background:#dadce0}.lst:focus{outline:none}</style><script nonce=\"NkIc1uB7wGxqj84CeYffNg\">(function(){window.google.erd={jsr:1,bv:2208,de:true,dpf:'EZ8nQ9DnJc46M8wgKjSUbYc5m8bBzP--l1yifs5O4Sg'};\n",
      "var g=this||self;var k,l=(k=g.mei)!=null?k:1,m,p=(m=g.diel)!=null?m:0,q,r=(q=g.sdo)!=null?q:!0,t=0,u,w=google.erd,x=w.jsr;google.ml=function(a,b,d,n,e){e=e===void 0?2:e;b&&(u=a&&a.message);d===void 0&&(d={});d.cad=\"ple_\"+google.ple+\".aple_\"+google.aple;if(google.dl)return google.dl(a,e,d,!0),null;b=d;if(x<0){window.console&&console.error(a,b);if(x===-2)throw a;b=!1}else b=!a||!a.message||a.message===\"Error loading script\"||t>=l&&!n?!1:!0;if(!b)return null;t++;d=d||{};b=encodeURIComponent;var c=\"/gen_204?atyp=i&ei=\"+b(google.kEI);google.kEXPI&&(c+=\"&jexpid=\"+b(google.kEXPI));c+=\"&srcpg=\"+b(google.sn)+\"&jsr=\"+b(w.jsr)+\n",
      "\"&bver=\"+b(w.bv);w.dpf&&(c+=\"&dpf=\"+b(w.dpf));var f=a.lineNumber;f!==void 0&&(c+=\"&line=\"+f);var h=a.fileName;h&&(h.indexOf(\"-extension:/\")>0&&(e=3),c+=\"&script=\"+b(h),f&&h===window.location.href&&(f=document.documentElement.outerHTML.split(\"\\n\")[f],c+=\"&cad=\"+b(f?f.substring(0,300):\"No script found.\")));google.ple&&google.ple===1&&(e=2);c+=\"&jsel=\"+e;for(var v in d)c+=\"&\",c+=b(v),c+=\"=\",c+=b(d[v]);c=c+\"&emsg=\"+b(a.name+\": \"+a.message);c=c+\"&jsst=\"+b(a.stack||\"N/A\");c.length>=12288&&(c=c.substr(0,12288));a=c;n||google.log(0,\"\",a);return a};window.onerror=function(a,b,d,n,e){u!==a&&(a=e instanceof Error?e:Error(a),d===void 0||\"lineNumber\"in a||(a.lineNumber=d),b===void 0||\"fileName\"in a||(a.fileName=b),google.ml(a,!1,void 0,!1,a.name===\"SyntaxError\"||a.message.substring(0,11)===\"SyntaxError\"||a.message.indexOf(\"Script error\")!==-1?3:p));u=null;r&&t>=l&&(window.onerror=null)};})();</script></head><body bgcolor=\"#fff\"><script nonce=\"NkIc1uB7wGxqj84CeYffNg\">(function(){var src='/images/nav_logo229.png';var iesg=false;document.body.onload = function(){window.n && window.n();if (document.images){new Image().src=src;}\n",
      "if (!iesg){document.f&&document.f.q.focus();document.gbqf&&document.gbqf.q.focus();}\n",
      "}\n",
      "})();</script><div id=\"mngb\"><div id=gbar><nobr><b class=gb1>Suche</b> <a class=gb1 href=\"https://www.google.com/imghp?hl=de&tab=wi\">Bilder</a> <a class=gb1 href=\"https://maps.google.de/maps?hl=de&tab=wl\">Maps</a> <a class=gb1 href=\"https://play.google.com/?hl=de&tab=w8\">Play</a> <a class=gb1 href=\"https://www.youtube.com/?tab=w1\">YouTube</a> <a class=gb1 href=\"https://news.google.com/?tab=wn\">News</a> <a class=gb1 href=\"https://mail.google.com/mail/?tab=wm\">Gmail</a> <a class=gb1 href=\"https://drive.google.com/?tab=wo\">Drive</a> <a class=gb1 style=\"text-decoration:none\" href=\"https://www.google.de/intl/de/about/products?tab=wh\"><u>Mehr</u> &raquo;</a></nobr></div><div id=guser width=100%><nobr><span id=gbn class=gbi></span><span id=gbf class=gbf></span><span id=gbe></span><a href=\"http://www.google.de/history/optout?hl=de\" class=gb4>Webprotokoll</a> | <a  href=\"/preferences?hl=de\" class=gb4>Einstellungen</a> | <a target=_top id=gb_70 href=\"https://accounts.google.com/ServiceLogin?hl=de&passive=true&continue=https://www.google.com/&ec=GAZAAQ\" class=gb4>Anmelden</a></nobr></div><div class=gbh style=left:0></div><div class=gbh style=right:0></div></div><center><br clear=\"all\" id=\"lgpd\"><div id=\"XjhHGf\"><img alt=\"Google\" height=\"92\" src=\"/images/branding/googlelogo/1x/googlelogo_white_background_color_272x92dp.png\" style=\"padding:28px 0 14px\" width=\"272\" id=\"hplogo\"><br><br></div><form action=\"/search\" name=\"f\"><table cellpadding=\"0\" cellspacing=\"0\"><tr valign=\"top\"><td width=\"25%\">&nbsp;</td><td align=\"center\" nowrap=\"\"><input name=\"ie\" value=\"ISO-8859-1\" type=\"hidden\"><input value=\"de\" name=\"hl\" type=\"hidden\"><input name=\"source\" type=\"hidden\" value=\"hp\"><input name=\"biw\" type=\"hidden\"><input name=\"bih\" type=\"hidden\"><div class=\"ds\" style=\"height:32px;margin:4px 0\"><input class=\"lst\" style=\"margin:0;padding:5px 8px 0 6px;vertical-align:top;color:#000\" autocomplete=\"off\" value=\"\" title=\"Google Suche\" maxlength=\"2048\" name=\"q\" size=\"57\"></div><br style=\"line-height:0\"><span class=\"ds\"><span class=\"lsbb\"><input class=\"lsb\" value=\"Google Suche\" name=\"btnG\" type=\"submit\"></span></span><span class=\"ds\"><span class=\"lsbb\"><input class=\"lsb\" id=\"tsuid_Z_0MaITrDK-Gxc8PuPjxsQI_1\" value=\"Auf gut Glück!\" name=\"btnI\" type=\"submit\"><script nonce=\"NkIc1uB7wGxqj84CeYffNg\">(function(){var id='tsuid_Z_0MaITrDK-Gxc8PuPjxsQI_1';document.getElementById(id).onclick = function(){if (this.form.q.value){this.checked = 1;if (this.form.iflsig)this.form.iflsig.disabled = false;}\n",
      "else top.location='/doodles/';};})();</script><input value=\"ACkRmUkAAAAAaA0LdxNFw5b1IRlImQ0J_5zKRNolj1QW\" name=\"iflsig\" type=\"hidden\"></span></span></td><td class=\"fl sblc\" align=\"left\" nowrap=\"\" width=\"25%\"><a href=\"/advanced_search?hl=de&amp;authuser=0\">Erweiterte Suche</a></td></tr></table><input id=\"gbv\" name=\"gbv\" type=\"hidden\" value=\"1\"><script nonce=\"NkIc1uB7wGxqj84CeYffNg\">(function(){var a,b=\"1\";if(document&&document.getElementById)if(typeof XMLHttpRequest!=\"undefined\")b=\"2\";else if(typeof ActiveXObject!=\"undefined\"){var c,d,e=[\"MSXML2.XMLHTTP.6.0\",\"MSXML2.XMLHTTP.3.0\",\"MSXML2.XMLHTTP\",\"Microsoft.XMLHTTP\"];for(c=0;d=e[c++];)try{new ActiveXObject(d),b=\"2\"}catch(h){}}a=b;if(a==\"2\"&&location.search.indexOf(\"&gbv=2\")==-1){var f=google.gbvu,g=document.getElementById(\"gbv\");g&&(g.value=a);f&&window.setTimeout(function(){location.href=f},0)};}).call(this);</script></form><div style=\"font-size:83%;min-height:3.5em\"><br></div><span id=\"footer\"><div style=\"font-size:10pt\"><div style=\"margin:19px auto;text-align:center\" id=\"WqQANb\"><a href=\"/intl/de/ads/\">Werbeprogramme</a><a href=\"/services/\">Unternehmensangebote</a><a href=\"/intl/de/about.html\">Über Google</a><a href=\"https://www.google.com/setprefdomain?prefdom=DE&amp;prev=https://www.google.de/&amp;sig=K_N8iJ2UFWEJMPFZVL6kC9-LHnGMM%3D\">Google.de</a></div></div><p style=\"font-size:8pt;color:#70757a\">&copy; 2025 - <a href=\"/intl/de/policies/privacy/\">Datenschutzerklärung</a> - <a href=\"/intl/de/policies/terms/\">Nutzungsbedingungen</a></p></span></center><script nonce=\"NkIc1uB7wGxqj84CeYffNg\">(function(){window.google.cdo={height:757,width:1440};(function(){var a=window.innerWidth,b=window.innerHeight;if(!a||!b){var c=window.document,d=c.compatMode==\"CSS1Compat\"?c.documentElement:c.body;a=d.clientWidth;b=d.clientHeight}if(a&&b&&(a!=google.cdo.width||b!=google.cdo.height)){var e=google,f=e.log,g=\"/client_204?&atyp=i&biw=\"+a+\"&bih=\"+b+\"&ei=\"+google.kEI,h=\"\",k=window.google&&window.google.kOPI||null;k&&(h+=\"&opi=\"+k);f.call(e,\"\",\"\",g+h)};}).call(this);})();(function(){google.xjs={basecomb:'/xjs/_/js/k\\x3dxjs.hp.en.--2gTFxbCLQ.es5.O/ck\\x3dxjs.hp.foKjw92TIGA.L.X.O/am\\x3dAAAAAAAQAAAAAAAAAAAAAAAAAAAAAAAAAABggBIIggAAQAAAAAAAAAAAFgBAAKUIABwIAAAAigAQIAAAAAAAAAAAAAIAAIAIAIAAAAACAAAAxHcEAARgIQAAXg/d\\x3d1/ed\\x3d1/dg\\x3d0/ujg\\x3d1/rs\\x3dACT90oGyzQcfMQly4-_V5luF4NXvjfOQxg',basecss:'/xjs/_/ss/k\\x3dxjs.hp.foKjw92TIGA.L.X.O/am\\x3dAAAAAAAQAAAAAAAAAAAAAAAAAAAAAAAAAABggBIIgAAAQAAAAAAAAAAAFgBAAKUAAAAIAAAAigAQIAAAAAAAAAAAAAIAAIAIAIAAAAAC/rs\\x3dACT90oGf7LnppYKoc9j2xAf8M3I-TvfYyQ',basejs:'/xjs/_/js/k\\x3dxjs.hp.en.--2gTFxbCLQ.es5.O/am\\x3dAAAAAAAAAAAAAAAAAAAAAAAAAAAAAAAAAAAAAAAAAgAAAAAAAAAAAAAAEAAAAAAIABwAAAAAAAAAAAAAAAAAAAAAAAAAAAAAAAAAAAAAAAAAxHcEAARgIQAAXg/dg\\x3d0/rs\\x3dACT90oFtBLDatn-CgnqY8m-Ykfpc6W9yfw',excm:[]};})();(function(){var u='/xjs/_/js/k\\x3dxjs.hp.en.--2gTFxbCLQ.es5.O/am\\x3dAAAAAAAAAAAAAAAAAAAAAAAAAAAAAAAAAAAAAAAAAgAAAAAAAAAAAAAAEAAAAAAIABwAAAAAAAAAAAAAAAAAAAAAAAAAAAAAAAAAAAAAAAAAxHcEAARgIQAAXg/d\\x3d1/ed\\x3d1/dg\\x3d3/rs\\x3dACT90oFtBLDatn-CgnqY8m-Ykfpc6W9yfw/m\\x3dsb_he,d';var st=1;var amd=1000;var mmd=0;var pod=true;var pop=true;var povp=false;var fp='';\n",
      "var e=this||self;function f(){var b,a,d;if(a=b=(a=window.google)==null?void 0:(d=a.ia)==null?void 0:d.r.B2Jtyd)a=b.m,a=a===1||a===5;return a&&b.cbfd!=null&&b.cbvi!=null?b:void 0};function g(){var b=[u];if(!google.dp){for(var a=0;a<b.length;a++){var d=b[a],c=document.createElement(\"link\");c.as=\"script\";c.href=d;c.rel=\"preload\";document.body.appendChild(c)}google.dp=!0}};google.ps===void 0&&(google.ps=[]);function h(){var b=u,a=function(){};google.lx=google.stvsc?a:function(){k(b);google.lx=a};google.bx||google.lx()}function l(b,a){a&&(b.src=a);fp&&(b.fetchPriority=fp);var d=b.onload;b.onload=function(c){d&&d(c);google.ps=google.ps.filter(function(G){return b!==G})};google.ps.push(b);document.body.appendChild(b)}google.as=l;function k(b){google.timers&&google.timers.load&&google.tick&&google.tick(\"load\",\"xjsls\");var a=document.createElement(\"script\");a.onerror=function(){google.ple=1};a.onload=function(){google.ple=0};google.xjsus=void 0;l(a,b);google.aple=-1;google.dp=!0};function m(b){var a=b.getAttribute(\"jscontroller\");return(a===\"UBXHI\"||a===\"R3fhkb\"||a===\"TSZEqd\")&&b.hasAttribute(\"data-src\")}function n(){for(var b=document.getElementsByTagName(\"img\"),a=0,d=b.length;a<d;a++){var c=b[a];if(c.hasAttribute(\"data-lzy_\")&&Number(c.getAttribute(\"data-atf\"))&1&&!m(c))return!0}return!1}for(var p=document.getElementsByTagName(\"img\"),q=0,r=p.length;q<r;++q){var t=p[q];Number(t.getAttribute(\"data-atf\"))&1&&m(t)&&(t.src=t.getAttribute(\"data-src\"))};var w,x,y,z,A,B,C,D,E,F;function H(){google.xjsu=u;e._F_jsUrl=u;A=function(){h()};w=!1;x=(st===1||st===3)&&!!google.caft&&!n();y=f();z=(st===2||st===3)&&!!y&&!n();B=pod;C=pop;D=povp;E=pop&&document.prerendering||povp&&document.hidden;F=D?\"visibilitychange\":\"prerenderingchange\"}function I(){w||x||z||E||(A(),w=!0)}\n",
      "setTimeout(function(){google&&google.tick&&google.timers&&google.timers.load&&google.tick(\"load\",\"xjspls\");H();if(x||z||E){if(x){var b=function(){x=!1;I()};google.caft(b);window.setTimeout(b,amd)}z&&(b=function(){z=!1;I()},y.cbvi.push(b),window.setTimeout(b,mmd));if(E){var a=function(){(D?document.hidden:document.prerendering)||(E=!1,I(),document.removeEventListener(F,a))};document.addEventListener(F,a,{passive:!0})}if(B||C||D)w||g()}else A()},0);})();window._ = window._ || {};window._DumpException = _._DumpException = function(e){throw e;};window._s = window._s || {};_s._DumpException = _._DumpException;window._qs = window._qs || {};_qs._DumpException = _._DumpException;(function(){var t=[0,16384,0,0,0,0,0,33857560,130,268435457,0,922748296,566531,155760,565248,2052,528,134217728,134217728,2097154,163849,521142272,541065287,2136,94];window._F_toggles = window._xjs_toggles = t;})();window._F_installCss = window._F_installCss || function(css){};(function(){google.jl={bfl:0,dw:false,ine:false,injs:'none',injt:0,injth:0,injv2:false,ubm:false,uwp:true,vs:false};})();(function(){var pmc='{\\x22d\\x22:{},\\x22sb_he\\x22:{\\x22client\\x22:\\x22heirloom-hp\\x22,\\x22dh\\x22:true,\\x22ds\\x22:\\x22\\x22,\\x22host\\x22:\\x22google.com\\x22,\\x22jsonp\\x22:true,\\x22lm\\x22:true,\\x22msgs\\x22:{\\x22cibl\\x22:\\x22Suche l\\\\u00f6schen\\x22,\\x22dym\\x22:\\x22Meintest du:\\x22,\\x22lcky\\x22:\\x22Auf gut Gl\\\\u00fcck!\\x22,\\x22lml\\x22:\\x22Weitere Informationen\\x22,\\x22psrc\\x22:\\x22Diese Suchanfrage wurde aus deinem \\\\u003Ca href\\x3d\\\\\\x22/history\\\\\\x22\\\\u003EWebprotokoll\\\\u003C/a\\\\u003E entfernt.\\x22,\\x22psrl\\x22:\\x22Entfernen\\x22,\\x22sbit\\x22:\\x22Bildersuche\\x22,\\x22srch\\x22:\\x22Google Suche\\x22},\\x22ovr\\x22:{},\\x22pq\\x22:\\x22\\x22,\\x22rfs\\x22:[],\\x22stok\\x22:\\x22Ibzyini7mXXh-MnFpfsNc8JmysM\\x22}}';google.pmc=JSON.parse(pmc);})();</script>       </body></html>\n"
     ]
    }
   ],
   "source": [
    "import requests\n",
    "response=requests.get(\"https://google.com\")\n",
    "print(response.text)\n",
    "\n"
   ]
  }
 ],
 "metadata": {
  "kernelspec": {
   "display_name": "Python 3",
   "language": "python",
   "name": "python3"
  },
  "language_info": {
   "codemirror_mode": {
    "name": "ipython",
    "version": 3
   },
   "file_extension": ".py",
   "mimetype": "text/x-python",
   "name": "python",
   "nbconvert_exporter": "python",
   "pygments_lexer": "ipython3",
   "version": "3.12.10"
  }
 },
 "nbformat": 4,
 "nbformat_minor": 2
}
